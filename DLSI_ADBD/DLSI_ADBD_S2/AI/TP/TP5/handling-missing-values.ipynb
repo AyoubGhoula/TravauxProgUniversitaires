{
 "cells": [
  {
   "cell_type": "markdown",
   "id": "e2975853",
   "metadata": {},
   "source": [
    "## TP Data Cleaning (1) : Handling Missing Values"
   ]
  },
  {
   "cell_type": "markdown",
   "id": "e25e1627",
   "metadata": {
    "papermill": {
     "duration": 0.006052,
     "end_time": "2023-04-20T18:09:04.969489",
     "exception": false,
     "start_time": "2023-04-20T18:09:04.963437",
     "status": "completed"
    },
    "tags": []
   },
   "source": [
    "## Bienvenue aux travaux pratiques de Nettoyage des données.\n",
    "\n",
    "Le nettoyage des données est une partie essentielle de la science des données, mais cela peut être profondément frustrant. Pourquoi certains de vos champs de texte sont-ils brouillés ? Que devez-vous faire à propos de ces valeurs manquantes ? Pourquoi vos dates ne sont-elles pas correctement formatées ? Comment pouvez-vous nettoyer rapidement des entrées de données incohérentes ? Dans ces TPs, vous apprendrez pourquoi vous rencontrez ces problèmes et, plus important encore, comment les résoudre !\n",
    "\n",
    "Dans ces TPs, vous apprendrez comment aborder certains des problèmes de nettoyage de données les plus courants afin de pouvoir réellement analyser vos données plus rapidement. Vous travaillerez à travers cinq exercices pratiques avec des données réelles et désordonnées et répondrez à certaines de vos questions les plus fréquemment posées sur le nettoyage des données.\n",
    "\n",
    "Dans ce Notebook, nous verrons comment traiter les valeurs manquantes.\n",
    "\n",
    "## Jeter un premier coup d'œil aux données\n",
    "La première chose que nous devrons faire est de charger les bibliothèques et l'ensemble de données que nous utiliserons.\n",
    "\n",
    "À titre de démonstration, nous utiliserons un ensemble de données d'événements survenus lors de matchs de football. Dans le prochain exercice, vous appliquerez vos nouvelles compétences à un ensemble de données de permis de construire."
   ]
  },
  {
   "cell_type": "markdown",
   "id": "a629bd3f",
   "metadata": {},
   "source": [
    "### À propos de l'ensemble de données\n",
    "L'ensemble de données comporte 407 689 lignes et 100 colonnes. Chaque match est détaillé en fournissant des informations sur : la situation du match, les joueurs impliqués, les résultats et des mesures avancées telles que les valeurs de points attendus et de probabilité de victoire."
   ]
  },
  {
   "cell_type": "code",
   "execution_count": null,
   "id": "b913ce76",
   "metadata": {
    "execution": {
     "iopub.execute_input": "2023-04-20T18:09:04.981646Z",
     "iopub.status.busy": "2023-04-20T18:09:04.981243Z",
     "iopub.status.idle": "2023-04-20T18:09:18.794507Z",
     "shell.execute_reply": "2023-04-20T18:09:18.793071Z"
    },
    "papermill": {
     "duration": 13.823169,
     "end_time": "2023-04-20T18:09:18.797730",
     "exception": false,
     "start_time": "2023-04-20T18:09:04.974561",
     "status": "completed"
    },
    "tags": []
   },
   "outputs": [],
   "source": [
    "# modules we'll use\n",
    "import pandas as pd\n",
    "import numpy as np\n",
    "\n",
    "# read in all our data\n",
    "even_data = pd.read_csv(\"../chemin de l'ensemble de données/.csv\")\n",
    "\n",
    "# set seed for reproducibility\n",
    "np.random.seed(0) "
   ]
  },
  {
   "cell_type": "markdown",
   "id": "34b52820",
   "metadata": {
    "papermill": {
     "duration": 0.004968,
     "end_time": "2023-04-20T18:09:18.807995",
     "exception": false,
     "start_time": "2023-04-20T18:09:18.803027",
     "status": "completed"
    },
    "tags": []
   },
   "source": [
    "La première chose à faire lorsque vous obtenez un nouvel ensemble de données est d'y jeter un coup d'œil. Cela vous permet de vérifier s'il a été correctement lu et de vous donner une idée de ce qui se passe avec les données. Dans ce cas, voyons s'il y a des valeurs manquantes, qui seront représentées par `NaN` ou `None`."
   ]
  },
  {
   "cell_type": "code",
   "execution_count": null,
   "id": "a44bd49a",
   "metadata": {
    "execution": {
     "iopub.execute_input": "2023-04-20T18:09:18.820534Z",
     "iopub.status.busy": "2023-04-20T18:09:18.820067Z",
     "iopub.status.idle": "2023-04-20T18:09:18.868485Z",
     "shell.execute_reply": "2023-04-20T18:09:18.867204Z"
    },
    "papermill": {
     "duration": 0.058044,
     "end_time": "2023-04-20T18:09:18.871125",
     "exception": false,
     "start_time": "2023-04-20T18:09:18.813081",
     "status": "completed"
    },
    "tags": []
   },
   "outputs": [],
   "source": [
    "# look at the first five rows of the even_data file. \n",
    "# I can see a handful of missing data already!\n",
    "even_data.head()"
   ]
  },
  {
   "cell_type": "markdown",
   "id": "df5cdbd7",
   "metadata": {
    "papermill": {
     "duration": 0.005048,
     "end_time": "2023-04-20T18:09:18.881681",
     "exception": false,
     "start_time": "2023-04-20T18:09:18.876633",
     "status": "completed"
    },
    "tags": []
   },
   "source": [
    "Oui, il semble qu'il y ait quelques valeurs manquantes.\n",
    "\n",
    "### Combien de points de données manquants avons-nous ?\n",
    "\n",
    "Maintenant que nous savons que nous avons effectivement des valeurs manquantes, voyons combien nous en avons dans chaque colonne."
   ]
  },
  {
   "cell_type": "code",
   "execution_count": null,
   "id": "9495a137",
   "metadata": {
    "execution": {
     "iopub.execute_input": "2023-04-20T18:09:18.894572Z",
     "iopub.status.busy": "2023-04-20T18:09:18.894029Z",
     "iopub.status.idle": "2023-04-20T18:09:19.586685Z",
     "shell.execute_reply": "2023-04-20T18:09:19.585359Z"
    },
    "papermill": {
     "duration": 0.702261,
     "end_time": "2023-04-20T18:09:19.589264",
     "exception": false,
     "start_time": "2023-04-20T18:09:18.887003",
     "status": "completed"
    },
    "tags": []
   },
   "outputs": [],
   "source": [
    "# get the number of missing data points per column\n",
    "missing_values_count = even_data.isnull().sum()\n",
    "\n",
    "# look at the # of missing points in the first ten columns\n",
    "missing_values_count[0:10]"
   ]
  },
  {
   "cell_type": "markdown",
   "id": "223da332",
   "metadata": {
    "papermill": {
     "duration": 0.005277,
     "end_time": "2023-04-20T18:09:19.600146",
     "exception": false,
     "start_time": "2023-04-20T18:09:19.594869",
     "status": "completed"
    },
    "tags": []
   },
   "source": [
    "Cela semble être beaucoup ! Il pourrait être utile de voir quel pourcentage des valeurs de notre ensemble de données étaient manquantes pour avoir une meilleure idée de l'ampleur de ce problème :"
   ]
  },
  {
   "cell_type": "code",
   "execution_count": null,
   "id": "ab1762e1",
   "metadata": {
    "execution": {
     "iopub.execute_input": "2023-04-20T18:09:19.613400Z",
     "iopub.status.busy": "2023-04-20T18:09:19.612986Z",
     "iopub.status.idle": "2023-04-20T18:09:19.619462Z",
     "shell.execute_reply": "2023-04-20T18:09:19.618483Z"
    },
    "papermill": {
     "duration": 0.016219,
     "end_time": "2023-04-20T18:09:19.621970",
     "exception": false,
     "start_time": "2023-04-20T18:09:19.605751",
     "status": "completed"
    },
    "tags": []
   },
   "outputs": [],
   "source": [
    "# how many total missing values do we have?\n",
    "total_cells = np.product(even_data.shape)\n",
    "total_missing = missing_values_count.sum()\n",
    "\n",
    "# percent of data that is missing\n",
    "percent_missing = (total_missing/total_cells) * 100\n",
    "print(percent_missing)"
   ]
  },
  {
   "cell_type": "markdown",
   "id": "4ab9dbc8",
   "metadata": {
    "papermill": {
     "duration": 0.005501,
     "end_time": "2023-04-20T18:09:19.633168",
     "exception": false,
     "start_time": "2023-04-20T18:09:19.627667",
     "status": "completed"
    },
    "tags": []
   },
   "source": [
    "Waouh, près d'un quart des cellules de cet ensemble de données sont vides ! Dans l'étape suivante, nous allons examiner de plus près certaines des colonnes avec des valeurs manquantes et essayer de comprendre ce qui pourrait se passer avec elles.\n",
    "\n",
    "## Comprendre pourquoi les données sont manquantes\n",
    "\n",
    "C'est à ce moment que nous entrons dans la partie de la science des données que j'aime appeler \"intuition des données\", c'est-à-dire \"regarder vraiment vos données et essayer de comprendre pourquoi elles sont comme elles le sont et comment cela affectera votre analyse\". Cela peut être une partie frustrante de la science des données, surtout si vous êtes nouveau dans le domaine et que vous n'avez pas beaucoup d'expérience. Pour traiter les valeurs manquantes, vous devrez utiliser votre intuition pour comprendre pourquoi la valeur est manquante. L'une des questions les plus importantes que vous pouvez vous poser pour aider à comprendre cela est la suivante :\n",
    "\n",
    "> **Cette valeur manque-t-elle parce qu'elle n'a pas été enregistrée ou parce qu'elle n'existe pas ?**\n",
    "\n",
    "Si une valeur manque parce qu'elle n'existe pas (comme la taille du plus vieux enfant de quelqu'un qui n'a pas d'enfants), il n'a pas de sens d'essayer de deviner ce qu'elle pourrait être. Vous voudrez probablement conserver ces valeurs en tant que `NaN`. D'autre part, si une valeur manque parce qu'elle n'a pas été enregistrée, alors vous pouvez essayer de deviner ce qu'elle aurait pu être en fonction des autres valeurs dans cette colonne et ligne. Cela s'appelle **l'imputation**, et nous allons apprendre à le faire ensuite ! :)\n",
    "\n",
    "Prenons un exemple. En examinant le nombre de valeurs manquantes dans le dataframe `even_data`, je remarque que la colonne \"TimesSec\" a beaucoup de valeurs manquantes :"
   ]
  },
  {
   "cell_type": "code",
   "execution_count": null,
   "id": "6584eb00",
   "metadata": {
    "execution": {
     "iopub.execute_input": "2023-04-20T18:09:19.646600Z",
     "iopub.status.busy": "2023-04-20T18:09:19.646148Z",
     "iopub.status.idle": "2023-04-20T18:09:19.655474Z",
     "shell.execute_reply": "2023-04-20T18:09:19.654186Z"
    },
    "papermill": {
     "duration": 0.019087,
     "end_time": "2023-04-20T18:09:19.657885",
     "exception": false,
     "start_time": "2023-04-20T18:09:19.638798",
     "status": "completed"
    },
    "tags": []
   },
   "outputs": [],
   "source": [
    "# look at the # of missing points in the first ten columns\n",
    "missing_values_count[0:10]"
   ]
  },
  {
   "cell_type": "markdown",
   "id": "fc3a648d",
   "metadata": {
    "papermill": {
     "duration": 0.005815,
     "end_time": "2023-04-20T18:09:19.669742",
     "exception": false,
     "start_time": "2023-04-20T18:09:19.663927",
     "status": "completed"
    },
    "tags": []
   },
   "source": [
    "En regardant le jeu de données `even_play2009to2016`, je peux voir que cette colonne contient des informations sur le nombre de secondes restantes dans le match lorsque la jeu a été effectué. Cela signifie que ces valeurs sont probablement manquantes parce qu'elles n'ont pas été enregistrées, plutôt que parce qu'elles n'existent pas. Il serait donc logique pour nous d'essayer de deviner ce qu'elles devraient être plutôt que de les laisser simplement en tant que NA.\n",
    "\n",
    "D'autre part, il y a d'autres champs, comme \"PenalizedTeam\", qui ont également beaucoup de valeurs manquantes. Dans ce cas, cependant, le champ est manquant car s'il n'y avait pas de pénalité, il n'a pas de sens de dire *quelle* équipe a été pénalisée. Pour cette colonne, il serait plus logique de laisser vide ou d'ajouter une troisième valeur comme \"neither\" et l'utiliser pour remplacer les NA.\n",
    "\n",
    "> **Astuce :** C'est un excellent endroit pour lire la documentation du jeu de données si vous ne l'avez pas déjà fait ! Si vous travaillez avec un jeu de données que vous avez obtenu d'une autre personne, vous pouvez également essayer de les contacter pour obtenir plus d'informations.\n",
    "\n",
    "Si vous effectuez une analyse de données très méticuleuse, c'est à ce moment-là que vous examinerez chaque colonne individuellement pour déterminer la meilleure stratégie pour remplir ces valeurs manquantes. Pour le reste de ce cahier, nous couvrirons quelques techniques \"rapides et sales\" qui peuvent vous aider avec les valeurs manquantes, mais qui finiront probablement par supprimer certaines informations utiles ou ajouter du bruit à vos données.\n",
    "\n",
    "# Supprimer les valeurs manquantes\n",
    "\n",
    "Si vous êtes pressé ou n'avez pas de raison de savoir pourquoi vos valeurs sont manquantes, une option que vous avez est de simplement supprimer toutes les lignes ou colonnes contenant des valeurs manquantes. (Remarque : Je ne recommande généralement pas cette approche pour les projets importants ! Il vaut généralement la peine de prendre le temps de passer en revue vos données et d'examiner vraiment toutes les colonnes avec des valeurs manquantes une par une pour vraiment connaître votre jeu de données.)\n",
    "\n",
    "Si vous êtes sûr de vouloir supprimer les lignes avec des valeurs manquantes, pandas dispose d'une fonction pratique, `dropna()`, pour vous aider à le faire. Essayons cela sur notre ensemble de données d'événements !"
   ]
  },
  {
   "cell_type": "code",
   "execution_count": null,
   "id": "b9959f96",
   "metadata": {
    "execution": {
     "iopub.execute_input": "2023-04-20T18:09:19.684594Z",
     "iopub.status.busy": "2023-04-20T18:09:19.684155Z",
     "iopub.status.idle": "2023-04-20T18:09:20.411117Z",
     "shell.execute_reply": "2023-04-20T18:09:20.409506Z"
    },
    "papermill": {
     "duration": 0.73851,
     "end_time": "2023-04-20T18:09:20.414122",
     "exception": false,
     "start_time": "2023-04-20T18:09:19.675612",
     "status": "completed"
    },
    "tags": []
   },
   "outputs": [],
   "source": [
    "# remove all the rows that contain a missing value\n",
    "even_data.dropna()"
   ]
  },
  {
   "cell_type": "markdown",
   "id": "69219fc0",
   "metadata": {
    "papermill": {
     "duration": 0.006003,
     "end_time": "2023-04-20T18:09:20.426600",
     "exception": false,
     "start_time": "2023-04-20T18:09:20.420597",
     "status": "completed"
    },
    "tags": []
   },
   "source": [
    "il semble que cela ait supprimé toutes nos données ! 😱 C'est parce que chaque ligne de notre jeu de données avait au moins une valeur manquante. Nous pourrions avoir plus de chance en supprimant toutes les colonnes qui ont au moins une valeur manquante à la place."
   ]
  },
  {
   "cell_type": "code",
   "execution_count": null,
   "id": "861b0b50",
   "metadata": {
    "execution": {
     "iopub.execute_input": "2023-04-20T18:09:20.440801Z",
     "iopub.status.busy": "2023-04-20T18:09:20.440385Z",
     "iopub.status.idle": "2023-04-20T18:09:21.212664Z",
     "shell.execute_reply": "2023-04-20T18:09:21.211143Z"
    },
    "papermill": {
     "duration": 0.78309,
     "end_time": "2023-04-20T18:09:21.215825",
     "exception": false,
     "start_time": "2023-04-20T18:09:20.432735",
     "status": "completed"
    },
    "tags": []
   },
   "outputs": [],
   "source": [
    "# remove all columns with at least one missing value\n",
    "columns_with_na_dropped = even_data.dropna(axis=1)\n",
    "columns_with_na_dropped.head()"
   ]
  },
  {
   "cell_type": "code",
   "execution_count": null,
   "id": "93c1c038",
   "metadata": {
    "execution": {
     "iopub.execute_input": "2023-04-20T18:09:21.231107Z",
     "iopub.status.busy": "2023-04-20T18:09:21.230671Z",
     "iopub.status.idle": "2023-04-20T18:09:21.236677Z",
     "shell.execute_reply": "2023-04-20T18:09:21.235659Z"
    },
    "papermill": {
     "duration": 0.016719,
     "end_time": "2023-04-20T18:09:21.239377",
     "exception": false,
     "start_time": "2023-04-20T18:09:21.222658",
     "status": "completed"
    },
    "tags": []
   },
   "outputs": [],
   "source": [
    "# just how much data did we lose?\n",
    "print(\"Columns in original dataset: %d \\n\" % even_data.shape[1])\n",
    "print(\"Columns with na's dropped: %d\" % columns_with_na_dropped.shape[1])"
   ]
  },
  {
   "cell_type": "markdown",
   "id": "4741945e",
   "metadata": {
    "papermill": {
     "duration": 0.006425,
     "end_time": "2023-04-20T18:09:21.252538",
     "exception": false,
     "start_time": "2023-04-20T18:09:21.246113",
     "status": "completed"
    },
    "tags": []
   },
   "source": [
    "Nous avons perdu pas mal de données, mais à ce stade, nous avons réussi à supprimer tous les `NaN` de nos données.\n",
    "\n",
    "# Remplir automatiquement les valeurs manquantes\n",
    "\n",
    "Une autre option est d'essayer de remplir les valeurs manquantes. Pour cette prochaine partie, je vais obtenir une petite sous-section des données de la even afin qu'elles s'impriment correctement."
   ]
  },
  {
   "cell_type": "code",
   "execution_count": null,
   "id": "a62c21cf",
   "metadata": {
    "execution": {
     "iopub.execute_input": "2023-04-20T18:09:21.269533Z",
     "iopub.status.busy": "2023-04-20T18:09:21.269064Z",
     "iopub.status.idle": "2023-04-20T18:09:21.305444Z",
     "shell.execute_reply": "2023-04-20T18:09:21.304422Z"
    },
    "papermill": {
     "duration": 0.047003,
     "end_time": "2023-04-20T18:09:21.307900",
     "exception": false,
     "start_time": "2023-04-20T18:09:21.260897",
     "status": "completed"
    },
    "tags": []
   },
   "outputs": [],
   "source": [
    "# get a small subset of the even dataset\n",
    "subset_even_data = even_data.loc[:, 'EPA':'Season'].head()\n",
    "subset_even_data"
   ]
  },
  {
   "cell_type": "markdown",
   "id": "bb7ef9d8",
   "metadata": {
    "papermill": {
     "duration": 0.006699,
     "end_time": "2023-04-20T18:09:21.321804",
     "exception": false,
     "start_time": "2023-04-20T18:09:21.315105",
     "status": "completed"
    },
    "tags": []
   },
   "source": [
    "Nous pouvons utiliser la fonction fillna() de Pandas pour remplir les valeurs manquantes dans un dataframe. Une option que nous avons est de spécifier par quoi nous voulons remplacer les valeurs NaN. Ici, je dis que je voudrais remplacer toutes les valeurs NaN par 0."
   ]
  },
  {
   "cell_type": "code",
   "execution_count": null,
   "id": "2c760d98",
   "metadata": {
    "execution": {
     "iopub.execute_input": "2023-04-20T18:09:21.337895Z",
     "iopub.status.busy": "2023-04-20T18:09:21.337487Z",
     "iopub.status.idle": "2023-04-20T18:09:21.356799Z",
     "shell.execute_reply": "2023-04-20T18:09:21.355212Z"
    },
    "papermill": {
     "duration": 0.030768,
     "end_time": "2023-04-20T18:09:21.359488",
     "exception": false,
     "start_time": "2023-04-20T18:09:21.328720",
     "status": "completed"
    },
    "tags": []
   },
   "outputs": [],
   "source": [
    "# replace all NA's with 0\n",
    "subset_even_data.fillna(0)"
   ]
  },
  {
   "cell_type": "markdown",
   "id": "ce338040",
   "metadata": {
    "papermill": {
     "duration": 0.006921,
     "end_time": "2023-04-20T18:09:21.373994",
     "exception": false,
     "start_time": "2023-04-20T18:09:21.367073",
     "status": "completed"
    },
    "tags": []
   },
   "source": [
    "Je pourrais aussi être un peu plus astucieux et remplacer les valeurs manquantes par la valeur qui vient immédiatement après dans la même colonne. (Cela a beaucoup de sens pour les ensembles de données où les observations ont un certain ordre logique.)"
   ]
  },
  {
   "cell_type": "code",
   "execution_count": null,
   "id": "122d056d",
   "metadata": {
    "execution": {
     "iopub.execute_input": "2023-04-20T18:09:21.391239Z",
     "iopub.status.busy": "2023-04-20T18:09:21.390781Z",
     "iopub.status.idle": "2023-04-20T18:09:21.414503Z",
     "shell.execute_reply": "2023-04-20T18:09:21.413136Z"
    },
    "papermill": {
     "duration": 0.035727,
     "end_time": "2023-04-20T18:09:21.417467",
     "exception": false,
     "start_time": "2023-04-20T18:09:21.381740",
     "status": "completed"
    },
    "tags": []
   },
   "outputs": [],
   "source": [
    "# replace all NA's the value that comes directly after it in the same column, \n",
    "# then replace all the remaining na's with 0\n",
    "subset_even_data.fillna(method='bfill', axis=0).fillna(0)"
   ]
  },
  {
   "cell_type": "markdown",
   "id": "6b04b2e1",
   "metadata": {
    "papermill": {
     "duration": 0.007393,
     "end_time": "2023-04-20T18:09:21.432813",
     "exception": false,
     "start_time": "2023-04-20T18:09:21.425420",
     "status": "completed"
    },
    "tags": []
   },
   "source": [
    "# Exercice\n",
    "\n",
    "Écrivez votre propre code pour gérer les valeurs manquantes dans un ensemble de données de permis de construire.\n"
   ]
  },
  {
   "cell_type": "markdown",
   "id": "eb30b6e3",
   "metadata": {},
   "source": [
    "1) Jetez un premier coup d'œil aux données\n",
    "Exécutez la cellule de code suivante pour charger les bibliothèques et l'ensemble de données que vous utiliserez pour terminer l'exercice."
   ]
  },
  {
   "cell_type": "code",
   "execution_count": null,
   "id": "fff22b7d",
   "metadata": {},
   "outputs": [],
   "source": [
    "# modules we'll use\n",
    "\n",
    "\n",
    "# read in all our data\n",
    "\n",
    "\n",
    "# set seed for reproducibility"
   ]
  },
  {
   "cell_type": "markdown",
   "id": "8888525f",
   "metadata": {},
   "source": [
    "Affichez les cinq premières lignes du DataFrame sf_permits."
   ]
  },
  {
   "cell_type": "code",
   "execution_count": null,
   "id": "5e6502d1",
   "metadata": {},
   "outputs": [],
   "source": []
  },
  {
   "cell_type": "markdown",
   "id": "0ff42d48",
   "metadata": {},
   "source": [
    "Le jeu de données contient-il des valeurs manquantes ? "
   ]
  },
  {
   "cell_type": "markdown",
   "id": "a15d1d8f",
   "metadata": {},
   "source": [
    "2) Combien de points de données manquants avons-nous ?\n",
    "Quel pourcentage des valeurs dans l'ensemble de données sont manquantes ? Votre réponse doit être un nombre entre 0 et 100. (Si 1/4 des valeurs dans l'ensemble de données sont manquantes, la réponse est 25.)"
   ]
  },
  {
   "cell_type": "code",
   "execution_count": null,
   "id": "8d1e23ae",
   "metadata": {},
   "outputs": [],
   "source": [
    "percent_missing ="
   ]
  },
  {
   "cell_type": "markdown",
   "id": "22e1f06f",
   "metadata": {},
   "source": [
    "3) Comprenez pourquoi les données sont manquantes\n",
    "Examinez les colonnes \"Street Number Suffix\" et \"Zipcode\" de l'ensemble de données des permis de construire. Les deux contiennent des valeurs manquantes.\n",
    "\n",
    "Lesquelles, le cas échéant, manquent parce qu'elles n'existent pas ?\n",
    "Lesquelles, le cas échéant, manquent parce qu'elles n'ont pas été enregistrées ?"
   ]
  },
  {
   "cell_type": "code",
   "execution_count": null,
   "id": "22930b37",
   "metadata": {},
   "outputs": [],
   "source": []
  },
  {
   "cell_type": "markdown",
   "id": "e9a5d0c4",
   "metadata": {},
   "source": [
    "4. Supprimer les valeurs manquantes : lignes\n",
    "Si vous supprimez toutes les lignes de sf_permits contenant des valeurs manquantes, combien de lignes restent ?\n"
   ]
  },
  {
   "cell_type": "code",
   "execution_count": null,
   "id": "cd94842f",
   "metadata": {},
   "outputs": [],
   "source": []
  },
  {
   "cell_type": "markdown",
   "id": "07d9f7cf",
   "metadata": {},
   "source": [
    "5) Supprimer les valeurs manquantes : colonnes\n",
    "Maintenant, essayez de supprimer toutes les colonnes avec des valeurs vides.\n",
    "\n",
    "Créez un nouveau DataFrame appelé sf_permits_with_na_dropped qui a toutes les colonnes avec des valeurs vides supprimées.\n",
    "Combien de colonnes ont été supprimées du DataFrame sf_permits original ? Utilisez ce nombre pour définir la valeur de la variable dropped_columns ci-dessous."
   ]
  },
  {
   "cell_type": "code",
   "execution_count": null,
   "id": "6d98d957",
   "metadata": {},
   "outputs": [],
   "source": [
    "sf_permits_with_na_dropped =\n",
    "\n",
    "dropped_columns ="
   ]
  },
  {
   "cell_type": "markdown",
   "id": "32ffd5a2",
   "metadata": {},
   "source": [
    "6) Remplir automatiquement les valeurs manquantes\n",
    "Essayez de remplacer tous les NaN dans les données sf_permits par celui qui vient immédiatement après, puis remplacez tous les NaN restants par 0. Définissez le résultat sur un nouveau DataFrame sf_permits_with_na_imputed."
   ]
  },
  {
   "cell_type": "code",
   "execution_count": null,
   "id": "82e76af2",
   "metadata": {},
   "outputs": [],
   "source": [
    "sf_permits_with_na_imputed ="
   ]
  }
 ],
 "metadata": {
  "kernelspec": {
   "display_name": "Python 3",
   "language": "python",
   "name": "python3"
  },
  "language_info": {
   "codemirror_mode": {
    "name": "ipython",
    "version": 3
   },
   "file_extension": ".py",
   "mimetype": "text/x-python",
   "name": "python",
   "nbconvert_exporter": "python",
   "pygments_lexer": "ipython3",
   "version": "3.7.12"
  },
  "papermill": {
   "default_parameters": {},
   "duration": 28.038794,
   "end_time": "2023-04-20T18:09:21.777577",
   "environment_variables": {},
   "exception": null,
   "input_path": "__notebook__.ipynb",
   "output_path": "__notebook__.ipynb",
   "parameters": {},
   "start_time": "2023-04-20T18:08:53.738783",
   "version": "2.4.0"
  }
 },
 "nbformat": 4,
 "nbformat_minor": 5
}

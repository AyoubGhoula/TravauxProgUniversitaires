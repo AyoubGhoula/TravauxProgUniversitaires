{
 "cells": [
  {
   "cell_type": "markdown",
   "metadata": {},
   "source": [
    "## TP Logistic Regression : Détection de Spam\n",
    "\n",
    "Nous abordons un problème de classification de spam avec un ensemble de données contenant 4601 e-mails, à partir desquels 57 caractéristiques ont été extraites. Celles-ci comprennent :\n",
    "\n",
    "48 caractéristiques, comprises entre [0; 100], donnant le pourcentage de mots dans un message qui correspondent à un mot donné sur une liste fixe. La liste contient des mots tels que \"business\", \"free\"...\n",
    "6 caractéristiques, comprises entre [0; 100], donnant le pourcentage de caractères dans l'e-mail qui correspondent à un caractère donné parmi \"(\", \"[\", \"!\", \"$\", \"#\".\n",
    "Les caractéristiques 55 à 57 représentent respectivement la longueur moyenne, la plus longue longueur et la somme de la longueur de la séquence non interrompue de lettres majuscules.\n",
    "L'ensemble de données spambase.data et les noms des caractéristiques spambase_variables.csv sont au format texte et disponibles sur Moodle. L'objectif est de classer un e-mail comme spam (classe 1) ou non (classe 0).\n",
    "\n",
    "Jeu de données: https://archive.ics.uci.edu/dataset/94/spambase"
   ]
  },
  {
   "cell_type": "markdown",
   "metadata": {},
   "source": [
    "### 1. Lecture des fichiers et extraction des entrées X et de la sortie Y : "
   ]
  },
  {
   "cell_type": "code",
   "execution_count": 6,
   "metadata": {},
   "outputs": [
    {
     "name": "stdout",
     "output_type": "stream",
     "text": [
      "Noms des caractéristiques: ['word_freq_make', 'word_freq_address', 'word_freq_all', 'word_freq_3d', 'word_freq_our', 'word_freq_over', 'word_freq_remove', 'word_freq_internet', 'word_freq_order', 'word_freq_mail', 'word_freq_receive', 'word_freq_will', 'word_freq_people', 'word_freq_report', 'word_freq_addresses', 'word_freq_free', 'word_freq_business', 'word_freq_email', 'word_freq_you', 'word_freq_credit', 'word_freq_your', 'word_freq_font', 'word_freq_000', 'word_freq_money', 'word_freq_hp', 'word_freq_hpl', 'word_freq_george', 'word_freq_650', 'word_freq_lab', 'word_freq_labs', 'word_freq_telnet', 'word_freq_857', 'word_freq_data', 'word_freq_415', 'word_freq_85', 'word_freq_technology', 'word_freq_1999', 'word_freq_parts', 'word_freq_pm', 'word_freq_direct', 'word_freq_cs', 'word_freq_meeting', 'word_freq_original', 'word_freq_project', 'word_freq_re', 'word_freq_edu', 'word_freq_table', 'word_freq_conference', 'char_freq_;', 'char_freq_(', 'char_freq_[', 'char_freq_!', 'char_freq_$', 'char_freq_#', 'capital_run_length_average', 'capital_run_length_longest', 'capital_run_length_total']\n"
     ]
    }
   ],
   "source": [
    "import numpy as np\n",
    "\n",
    "dataspam = np.loadtxt(\"C:/Users/DELL/Desktop/2_L_AI/spambase/spambase.data\", delimiter=\",\")\n",
    "# Charger les noms des caractéristiques à partir de spambase.names\n",
    "with open(\"spambase/spambase.names\") as f:\n",
    "    lines = f.readlines()\n",
    "\n",
    "# Extraire les noms des caractéristiques\n",
    "feature_names = [line.split(\":\")[0] for line in lines[33:90]]  # les noms des caractéristiques commencent à la ligne 34 et se terminent à la ligne 91\n",
    "\n",
    "# Obtenir les entrées X et la sortie Y\n",
    "X = dataspam[:, :-1]  # Toutes les colonnes sauf la dernière\n",
    "Y = dataspam[:, -1]   # Dernière colonne\n",
    "\n",
    "# Afficher les noms des caractéristiques\n",
    "print(\"Noms des caractéristiques:\", feature_names)\n"
   ]
  },
  {
   "cell_type": "markdown",
   "metadata": {},
   "source": [
    "### 2.Combien d'échantillons avez-vous dans chaque classe (0 ou 1)? Afficher la \"boxplot\" des entrées et commenter les graphiques.\n"
   ]
  },
  {
   "cell_type": "code",
   "execution_count": null,
   "metadata": {},
   "outputs": [],
   "source": []
  },
  {
   "cell_type": "markdown",
   "metadata": {},
   "source": [
    "### 3. Diviser les données en ensembles d'entraînement et de test. La taille de l'ensemble de test doit être égale à 1/3 des données disponibles."
   ]
  },
  {
   "cell_type": "code",
   "execution_count": null,
   "metadata": {},
   "outputs": [],
   "source": [
    "from sklearn.model_selection import train_test_split\n",
    "\n",
    "X_train, X_test, Y_train, Y_test = train_test_split(X, Y, test_size=1/3, random_state=42)\n",
    "\n"
   ]
  },
  {
   "cell_type": "markdown",
   "metadata": {},
   "source": [
    "### 4.L'objectif est d'apprendre un modèle de régression logistique capable de classer correctement les e-mails entrants.\n",
    "(a) Apprendre un modèle de régression logistique linéaire. Appelons clf_spam le classifieur."
   ]
  },
  {
   "cell_type": "code",
   "execution_count": null,
   "metadata": {},
   "outputs": [],
   "source": [
    "from sklearn.linear_model import LogisticRegression\n",
    "\n",
    "clf_spam = LogisticRegression()\n",
    "clf_spam.fit(X_train, Y_train)\n"
   ]
  },
  {
   "cell_type": "markdown",
   "metadata": {},
   "source": [
    "\n",
    "(b) Calculer l'exactitude de votre modèle à la fois sur les ensembles d'entraînement et de test. Les résultats sont-ils satisfaisants ?"
   ]
  },
  {
   "cell_type": "code",
   "execution_count": null,
   "metadata": {},
   "outputs": [],
   "source": [
    "from sklearn.metrics import accuracy_score\n",
    "\n",
    "# Ensemble d'entraînement\n",
    "acc_train = accuracy_score(Y_train, clf_spam.predict(X_train))\n",
    "print(\"Exactitude sur les données d'entraînement = {}\".format(100*acc_train))\n",
    "\n",
    "# Ensemble de test\n",
    "acc_test = accuracy_score(Y_test, clf_spam.predict(X_test))\n",
    "print(\"Exactitude sur les données de test = {}\".format(100*acc_test))\n"
   ]
  },
  {
   "cell_type": "markdown",
   "metadata": {},
   "source": [
    "(c) Pour voir quelles sont les caractéristiques les plus importantes, triez les paramètres du modèle selon leur valeur absolue."
   ]
  },
  {
   "cell_type": "code",
   "execution_count": null,
   "metadata": {},
   "outputs": [],
   "source": [
    "index = np.argsort(np.abs(np.squeeze(clf_spam.coef_)))\n",
    "index = index[::-1]\n",
    "\n",
    "print(\"{:<38s}{:<18s}\".format(\"Variables\", \"Coefficient\"))\n",
    "for var, coef in zip(features_name[index], clf_spam.coef_[0,index]):\n",
    "    print(\"{:<28s}{:>16.2f}\".format(var, coef))\n"
   ]
  },
  {
   "cell_type": "markdown",
   "metadata": {},
   "source": [
    "Quelles sont les 10 caractéristiques les plus importantes ?"
   ]
  },
  {
   "cell_type": "markdown",
   "metadata": {},
   "source": [
    "Nous avons effectué la classification sans normaliser les caractéristiques comme recommandé habituellement. Cela peut affecter le modèle appris. Normalisez les variables et répétez la question 4. \n",
    "### 5. Quels sont les changements les plus importants par rapport à vos résultats précédents ?"
   ]
  },
  {
   "cell_type": "code",
   "execution_count": null,
   "metadata": {},
   "outputs": [],
   "source": [
    "from sklearn.preprocessing import StandardScaler\n",
    "\n",
    "sc = StandardScaler(with_mean=True, with_std=True)\n",
    "...\n",
    "\n"
   ]
  },
  {
   "cell_type": "markdown",
   "metadata": {},
   "source": [
    "\n",
    "Enfin, nous allons tenter un troisième modèle de régression logistique. Pour cela, transformez les caractéristiques en utilisant log(xij + _) avec _ = 0.01. Entraînez un modèle de régression logistique en utilisant ces caractéristiques transformées et évaluez sa performance. Normalement, vous devriez obtenir une précision d'environ 95,3%. \n",
    "### 6. Pouvez-vous expliquer pourquoi nous améliorons la performance ?"
   ]
  },
  {
   "cell_type": "code",
   "execution_count": null,
   "metadata": {},
   "outputs": [],
   "source": [
    "epsilon = 0.01\n",
    "X_train_n = np.log(X_train + epsilon)\n",
    "X_test_n = np.log(X_test+epsilon)\n",
    "...\n"
   ]
  }
 ],
 "metadata": {
  "kernelspec": {
   "display_name": "Python 3",
   "language": "python",
   "name": "python3"
  },
  "language_info": {
   "codemirror_mode": {
    "name": "ipython",
    "version": 3
   },
   "file_extension": ".py",
   "mimetype": "text/x-python",
   "name": "python",
   "nbconvert_exporter": "python",
   "pygments_lexer": "ipython3",
   "version": "3.12.2"
  }
 },
 "nbformat": 4,
 "nbformat_minor": 2
}
